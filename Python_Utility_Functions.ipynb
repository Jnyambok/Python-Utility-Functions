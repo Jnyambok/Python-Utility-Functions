{
  "nbformat": 4,
  "nbformat_minor": 0,
  "metadata": {
    "colab": {
      "provenance": [],
      "toc_visible": true,
      "authorship_tag": "ABX9TyM3roeQvC6Yhu0IPYSLzGDb",
      "include_colab_link": true
    },
    "kernelspec": {
      "name": "python3",
      "display_name": "Python 3"
    },
    "language_info": {
      "name": "python"
    }
  },
  "cells": [
    {
      "cell_type": "markdown",
      "metadata": {
        "id": "view-in-github",
        "colab_type": "text"
      },
      "source": [
        "<a href=\"https://colab.research.google.com/github/Jnyambok/Python-Utility-Functions/blob/main/Python_Utility_Functions.ipynb\" target=\"_parent\"><img src=\"https://colab.research.google.com/assets/colab-badge.svg\" alt=\"Open In Colab\"/></a>"
      ]
    },
    {
      "cell_type": "markdown",
      "source": [
        "# **Python Utility Functions, Algorithms and Data Structures**\n",
        "This notebook serves as a playground for playing with python utility functions.\n",
        "Adapted from various sources such as :\n",
        "\n",
        "1.   [How to Define Python Utility Functions](https://labex.io/tutorials/python-how-to-define-python-utility-functions-419853)\n",
        "2.    [Problem Solving with Algorithms and Data Structures using Python](https://runestone.academy/ns/books/published/pythonds/index.html)\n",
        "\n",
        "The best practices for functions are:\n",
        "\n",
        "\n",
        "1.  Keep functions focused on a single task\n",
        "2.  Use clear and descriptive names\n",
        "3.  Use type hints and docstrings\n",
        "4.  Handle potential edge cases\n",
        "5.  Prefer pure functions when possible\n",
        "\n",
        "Effective utility functions should have:\n",
        "\n",
        "1.   A single, well-defined responsibility\n",
        "2.   Clear input and output expectations.\n",
        "3.    Minimal side effects\n",
        "\n"
      ],
      "metadata": {
        "id": "cLi5XrZaQibW"
      }
    },
    {
      "cell_type": "markdown",
      "source": [
        "![image.png](data:image/png;base64,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)"
      ],
      "metadata": {
        "id": "zWFNnEfrSOg2"
      }
    },
    {
      "cell_type": "markdown",
      "source": [
        "# **1. Docstrings**\n",
        "\n",
        "**Docstrings** short for documentation strings provide a convenient way of associating documentation with Python Modules, functions, classes and methods.\n",
        "They are declared using triple quotes and can be accessed using the __doc__ method of an object or using the help function."
      ],
      "metadata": {
        "id": "od41UFtsTlSW"
      }
    },
    {
      "cell_type": "code",
      "execution_count": 6,
      "metadata": {
        "colab": {
          "base_uri": "https://localhost:8080/"
        },
        "id": "oB8BDuXKQfsq",
        "outputId": "d5083b5e-3585-4334-a47d-03eddc7f34fd"
      },
      "outputs": [
        {
          "output_type": "stream",
          "name": "stdout",
          "text": [
            "Help on function addition in module __main__:\n",
            "\n",
            "addition()\n",
            "    Demonstrates the triple double quotes docstrings and does nothing really\n",
            "\n"
          ]
        }
      ],
      "source": [
        "def addition():\n",
        "  \"\"\"\n",
        "  Demonstrates the triple double quotes docstrings and does nothing really\n",
        "\n",
        "  \"\"\"\n",
        "\n",
        "  return None\n",
        "\n",
        "print(addition.__doc__)\n",
        "help(addition)"
      ]
    },
    {
      "cell_type": "markdown",
      "source": [
        "Google Style docstrings follow a specific format and provide a structured way to document Python Code including parameters, return values and descriptions"
      ],
      "metadata": {
        "id": "4TfuSeqxVqKc"
      }
    },
    {
      "cell_type": "code",
      "source": [
        "\n",
        "def multiply_numbers(a,b):\n",
        "\n",
        "  \"\"\"\n",
        "  Multiplies two numbers and returns the result\n",
        "\n",
        "  Args:\n",
        "  a (int) : The first number\n",
        "  b (int) : The second number\n",
        "\n",
        "  Returns:\n",
        "  int : The product of the two numbers\n",
        "  \"\"\"\n",
        "\n",
        "  return a*b\n",
        "\n",
        "\n",
        "print(multiply_numbers(3,5))\n",
        "help(multiply_numbers)\n"
      ],
      "metadata": {
        "colab": {
          "base_uri": "https://localhost:8080/"
        },
        "id": "sUGXtwrYV6JV",
        "outputId": "acb5354e-dd6c-48b3-9835-7c60f1b4ab5f"
      },
      "execution_count": 8,
      "outputs": [
        {
          "output_type": "stream",
          "name": "stdout",
          "text": [
            "15\n",
            "Help on function multiply_numbers in module __main__:\n",
            "\n",
            "multiply_numbers(a, b)\n",
            "    Multiplies two numbers and returns the result\n",
            "    \n",
            "    Args:\n",
            "    a (int) : The first number\n",
            "    b (int) : The second number\n",
            "    \n",
            "    Returns:\n",
            "    int : The product of the two numbers\n",
            "\n"
          ]
        }
      ]
    }
  ]
}