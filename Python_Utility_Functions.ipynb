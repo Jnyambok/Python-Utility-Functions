{
  "nbformat": 4,
  "nbformat_minor": 0,
  "metadata": {
    "colab": {
      "provenance": [],
      "toc_visible": true,
      "authorship_tag": "ABX9TyOpPqzMPxyu02VwfvthBnbw",
      "include_colab_link": true
    },
    "kernelspec": {
      "name": "python3",
      "display_name": "Python 3"
    },
    "language_info": {
      "name": "python"
    }
  },
  "cells": [
    {
      "cell_type": "markdown",
      "metadata": {
        "id": "view-in-github",
        "colab_type": "text"
      },
      "source": [
        "<a href=\"https://colab.research.google.com/github/Jnyambok/Python-Utility-Functions/blob/main/Python_Utility_Functions.ipynb\" target=\"_parent\"><img src=\"https://colab.research.google.com/assets/colab-badge.svg\" alt=\"Open In Colab\"/></a>"
      ]
    },
    {
      "cell_type": "markdown",
      "source": [
        "# **Python Utility Functions, Algorithms and Data Structures**\n",
        "This notebook serves as a playground for playing with python utility functions.\n",
        "Adapted from various sources such as :\n",
        "\n",
        "1.   [How to Define Python Utility Functions](https://labex.io/tutorials/python-how-to-define-python-utility-functions-419853)\n",
        "2.    [Problem Solving with Algorithms and Data Structures using Python](https://runestone.academy/ns/books/published/pythonds/index.html)\n",
        "\n",
        "The best practices for functions are:\n",
        "\n",
        "\n",
        "1.  Keep functions focused on a single task\n",
        "2.  Use clear and descriptive names\n",
        "3.  Use type hints and docstrings\n",
        "4.  Handle potential edge cases\n",
        "5.  Prefer pure functions when possible\n",
        "\n",
        "Effective utility functions should have:\n",
        "\n",
        "1.   A single, well-defined responsibility\n",
        "2.   Clear input and output expectations.\n",
        "3.    Minimal side effects\n",
        "\n"
      ],
      "metadata": {
        "id": "cLi5XrZaQibW"
      }
    },
    {
      "cell_type": "markdown",
      "source": [
        "# **1. Docstrings**\n",
        "\n",
        "**Docstrings** short for documentation strings provide a convenient way of associating documentation with Python Modules, functions, classes and methods.\n",
        "They are declared using triple quotes and can be accessed using the __doc__ method of an object or using the help function."
      ],
      "metadata": {
        "id": "od41UFtsTlSW"
      }
    },
    {
      "cell_type": "code",
      "execution_count": null,
      "metadata": {
        "colab": {
          "base_uri": "https://localhost:8080/"
        },
        "id": "oB8BDuXKQfsq",
        "outputId": "d5083b5e-3585-4334-a47d-03eddc7f34fd"
      },
      "outputs": [
        {
          "output_type": "stream",
          "name": "stdout",
          "text": [
            "Help on function addition in module __main__:\n",
            "\n",
            "addition()\n",
            "    Demonstrates the triple double quotes docstrings and does nothing really\n",
            "\n"
          ]
        }
      ],
      "source": [
        "def addition():\n",
        "  \"\"\"\n",
        "  Demonstrates the triple double quotes docstrings and does nothing really\n",
        "\n",
        "  \"\"\"\n",
        "\n",
        "  return None\n",
        "\n",
        "print(addition.__doc__)\n",
        "help(addition)"
      ]
    },
    {
      "cell_type": "markdown",
      "source": [
        "Google Style docstrings follow a specific format and provide a structured way to document Python Code including parameters, return values and descriptions"
      ],
      "metadata": {
        "id": "4TfuSeqxVqKc"
      }
    },
    {
      "cell_type": "code",
      "source": [
        "\n",
        "def multiply_numbers(a,b):\n",
        "\n",
        "  \"\"\"\n",
        "  Multiplies two numbers and returns the result\n",
        "\n",
        "  Args:\n",
        "  a (int) : The first number\n",
        "  b (int) : The second number\n",
        "\n",
        "  Returns:\n",
        "  int : The product of the two numbers\n",
        "  \"\"\"\n",
        "\n",
        "  return a*b\n",
        "\n",
        "\n",
        "print(multiply_numbers(3,5))\n",
        "help(multiply_numbers)\n"
      ],
      "metadata": {
        "colab": {
          "base_uri": "https://localhost:8080/"
        },
        "id": "sUGXtwrYV6JV",
        "outputId": "acb5354e-dd6c-48b3-9835-7c60f1b4ab5f"
      },
      "execution_count": null,
      "outputs": [
        {
          "output_type": "stream",
          "name": "stdout",
          "text": [
            "15\n",
            "Help on function multiply_numbers in module __main__:\n",
            "\n",
            "multiply_numbers(a, b)\n",
            "    Multiplies two numbers and returns the result\n",
            "    \n",
            "    Args:\n",
            "    a (int) : The first number\n",
            "    b (int) : The second number\n",
            "    \n",
            "    Returns:\n",
            "    int : The product of the two numbers\n",
            "\n"
          ]
        }
      ]
    },
    {
      "cell_type": "markdown",
      "source": [],
      "metadata": {
        "id": "9fRgboOj0IPh"
      }
    },
    {
      "cell_type": "markdown",
      "source": [
        "# **2. Function Design Patterns**\n",
        "A good function should have error handling, type hinting, documentation strings and input validation\n",
        "![image.png](data:image/png;base64,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)"
      ],
      "metadata": {
        "id": "WoRNC9_e0MEW"
      }
    },
    {
      "cell_type": "markdown",
      "source": [
        "### Type Hints\n",
        "\n",
        "In my own words, Type Hints borrows a little bit from static-typed language where it implements the functionality of being able to specify variable types before running.\n",
        "Type Hinting provides a clear expectation of the variable types as one is defining the method.\n",
        "In Python, Numeric Abstract Base Classes (ABCs) are a set of classes provided in the built-in numbers module. They define a standard hierarchy for different types of numbers, allowing you to check if an object behaves like a particular kind of number, regardless of its specific concrete class.\n",
        "\n",
        "It does have some pitfalls that you would look at for [\n",
        "  here](https://www.reddit.com/r/Python/comments/10zdidm/why_type_hinting_sucks/)\n",
        "\n"
      ],
      "metadata": {
        "id": "jAXcHWpK3xL8"
      }
    },
    {
      "cell_type": "code",
      "source": [
        "## Lets define a simple function that returns the number of char in a name\n",
        "\n",
        "def count_chars(name: str) -> int:\n",
        "  \"\"\"\n",
        "  Definition : A function that takes in the name of a person and returns the number of characters\n",
        "\n",
        "  Args:\n",
        "  name (str) : The name of the person\n",
        "\n",
        "  Returns:\n",
        "  int : The number of characters in the name\n",
        "\n",
        "  \"\"\"\n",
        "\n",
        "  return len(name)\n",
        "\n",
        "help(count_chars)"
      ],
      "metadata": {
        "colab": {
          "base_uri": "https://localhost:8080/"
        },
        "id": "MYEj2GYM3wh9",
        "outputId": "85a3feb4-b518-471f-fd97-c8aeae666ec4"
      },
      "execution_count": null,
      "outputs": [
        {
          "output_type": "stream",
          "name": "stdout",
          "text": [
            "Help on function count_chars in module __main__:\n",
            "\n",
            "count_chars(name: str) -> int\n",
            "    Definition : A function that takes in the name of a person and returns the number of characters\n",
            "    \n",
            "    Args: \n",
            "    name (str) : The name of the person\n",
            "    \n",
            "    Returns:\n",
            "    int : The number of characters in the name\n",
            "\n"
          ]
        }
      ]
    },
    {
      "cell_type": "code",
      "source": [
        "count_chars(\"Julius\")"
      ],
      "metadata": {
        "colab": {
          "base_uri": "https://localhost:8080/"
        },
        "id": "H7cxqxoI0iy6",
        "outputId": "32cd177f-adae-4b15-c55a-14e2f59d24a2"
      },
      "execution_count": null,
      "outputs": [
        {
          "output_type": "execute_result",
          "data": {
            "text/plain": [
              "6"
            ]
          },
          "metadata": {},
          "execution_count": 2
        }
      ]
    },
    {
      "cell_type": "markdown",
      "source": [
        "### Exception Handling and Input Validation\n",
        "Write a program that separates the quantity from the item i.e 2 x Mushrooms to a df having Item | Quantity. And if its just a string it list just 1 as quantity"
      ],
      "metadata": {
        "id": "dSfuueueepw4"
      }
    },
    {
      "cell_type": "code",
      "source": [
        "import pandas as pd\n",
        "import re\n",
        "\n",
        "sku = [\"2 x Tropical Heat Cumin\" , \"3 x Tomatoes\" , \"1 x Onion\", \"Crisps\"]\n",
        "shopping_list = pd.DataFrame(columns = [\"Item\" , \"Quantity\"])\n",
        "\n",
        "def item_splitter (items_list : list[str]) -> pd.DataFrame :\n",
        "  \"\"\"\n",
        "  Definition : A function that takes a product list and separates the item from the quantity\n",
        "\n",
        "  Args:\n",
        "  list (str) : String of items\n",
        "\n",
        "  Returns:\n",
        "  DataFrame : A dataframe with the item and quantity\n",
        "\n",
        "  \"\"\"\n",
        "  if not isinstance(items_list, list):\n",
        "    raise TypeError(\"Input 'items_list' must be a list.\")\n",
        "\n",
        "  for item in items_list:\n",
        "    try:\n",
        "      match = re.match(r'^\\s*(\\d+)\\s*x\\s*(.*)$', item)\n",
        "      if match:\n",
        "        item_number = int(match.group(1))\n",
        "        item_name = match.group(2)\n",
        "      else:\n",
        "        item_number = 1\n",
        "        item_name = item\n",
        "\n",
        "      shopping_list.loc[len(shopping_list)] = [item_name, item_number]\n",
        "\n",
        "    except Exception as e:\n",
        "      print(f\"Error processing item '{item}': {e}\")\n",
        "\n",
        "  return shopping_list\n",
        "\n",
        "item_splitter(sku)\n",
        "\n",
        "\n"
      ],
      "metadata": {
        "colab": {
          "base_uri": "https://localhost:8080/",
          "height": 175
        },
        "id": "aDNTZGVOe8ys",
        "outputId": "d4ccca4b-dd76-423e-b2b3-ca5d385aedaf"
      },
      "execution_count": null,
      "outputs": [
        {
          "output_type": "execute_result",
          "data": {
            "text/plain": [
              "                  Item  Quantity\n",
              "0  Tropical Heat Cumin         2\n",
              "1             Tomatoes         3\n",
              "2                Onion         1\n",
              "3               Crisps         1"
            ],
            "text/html": [
              "\n",
              "  <div id=\"df-5819f2fe-40a3-4776-bb01-9b2b026d7df8\" class=\"colab-df-container\">\n",
              "    <div>\n",
              "<style scoped>\n",
              "    .dataframe tbody tr th:only-of-type {\n",
              "        vertical-align: middle;\n",
              "    }\n",
              "\n",
              "    .dataframe tbody tr th {\n",
              "        vertical-align: top;\n",
              "    }\n",
              "\n",
              "    .dataframe thead th {\n",
              "        text-align: right;\n",
              "    }\n",
              "</style>\n",
              "<table border=\"1\" class=\"dataframe\">\n",
              "  <thead>\n",
              "    <tr style=\"text-align: right;\">\n",
              "      <th></th>\n",
              "      <th>Item</th>\n",
              "      <th>Quantity</th>\n",
              "    </tr>\n",
              "  </thead>\n",
              "  <tbody>\n",
              "    <tr>\n",
              "      <th>0</th>\n",
              "      <td>Tropical Heat Cumin</td>\n",
              "      <td>2</td>\n",
              "    </tr>\n",
              "    <tr>\n",
              "      <th>1</th>\n",
              "      <td>Tomatoes</td>\n",
              "      <td>3</td>\n",
              "    </tr>\n",
              "    <tr>\n",
              "      <th>2</th>\n",
              "      <td>Onion</td>\n",
              "      <td>1</td>\n",
              "    </tr>\n",
              "    <tr>\n",
              "      <th>3</th>\n",
              "      <td>Crisps</td>\n",
              "      <td>1</td>\n",
              "    </tr>\n",
              "  </tbody>\n",
              "</table>\n",
              "</div>\n",
              "    <div class=\"colab-df-buttons\">\n",
              "\n",
              "  <div class=\"colab-df-container\">\n",
              "    <button class=\"colab-df-convert\" onclick=\"convertToInteractive('df-5819f2fe-40a3-4776-bb01-9b2b026d7df8')\"\n",
              "            title=\"Convert this dataframe to an interactive table.\"\n",
              "            style=\"display:none;\">\n",
              "\n",
              "  <svg xmlns=\"http://www.w3.org/2000/svg\" height=\"24px\" viewBox=\"0 -960 960 960\">\n",
              "    <path d=\"M120-120v-720h720v720H120Zm60-500h600v-160H180v160Zm220 220h160v-160H400v160Zm0 220h160v-160H400v160ZM180-400h160v-160H180v160Zm440 0h160v-160H620v160ZM180-180h160v-160H180v160Zm440 0h160v-160H620v160Z\"/>\n",
              "  </svg>\n",
              "    </button>\n",
              "\n",
              "  <style>\n",
              "    .colab-df-container {\n",
              "      display:flex;\n",
              "      gap: 12px;\n",
              "    }\n",
              "\n",
              "    .colab-df-convert {\n",
              "      background-color: #E8F0FE;\n",
              "      border: none;\n",
              "      border-radius: 50%;\n",
              "      cursor: pointer;\n",
              "      display: none;\n",
              "      fill: #1967D2;\n",
              "      height: 32px;\n",
              "      padding: 0 0 0 0;\n",
              "      width: 32px;\n",
              "    }\n",
              "\n",
              "    .colab-df-convert:hover {\n",
              "      background-color: #E2EBFA;\n",
              "      box-shadow: 0px 1px 2px rgba(60, 64, 67, 0.3), 0px 1px 3px 1px rgba(60, 64, 67, 0.15);\n",
              "      fill: #174EA6;\n",
              "    }\n",
              "\n",
              "    .colab-df-buttons div {\n",
              "      margin-bottom: 4px;\n",
              "    }\n",
              "\n",
              "    [theme=dark] .colab-df-convert {\n",
              "      background-color: #3B4455;\n",
              "      fill: #D2E3FC;\n",
              "    }\n",
              "\n",
              "    [theme=dark] .colab-df-convert:hover {\n",
              "      background-color: #434B5C;\n",
              "      box-shadow: 0px 1px 3px 1px rgba(0, 0, 0, 0.15);\n",
              "      filter: drop-shadow(0px 1px 2px rgba(0, 0, 0, 0.3));\n",
              "      fill: #FFFFFF;\n",
              "    }\n",
              "  </style>\n",
              "\n",
              "    <script>\n",
              "      const buttonEl =\n",
              "        document.querySelector('#df-5819f2fe-40a3-4776-bb01-9b2b026d7df8 button.colab-df-convert');\n",
              "      buttonEl.style.display =\n",
              "        google.colab.kernel.accessAllowed ? 'block' : 'none';\n",
              "\n",
              "      async function convertToInteractive(key) {\n",
              "        const element = document.querySelector('#df-5819f2fe-40a3-4776-bb01-9b2b026d7df8');\n",
              "        const dataTable =\n",
              "          await google.colab.kernel.invokeFunction('convertToInteractive',\n",
              "                                                    [key], {});\n",
              "        if (!dataTable) return;\n",
              "\n",
              "        const docLinkHtml = 'Like what you see? Visit the ' +\n",
              "          '<a target=\"_blank\" href=https://colab.research.google.com/notebooks/data_table.ipynb>data table notebook</a>'\n",
              "          + ' to learn more about interactive tables.';\n",
              "        element.innerHTML = '';\n",
              "        dataTable['output_type'] = 'display_data';\n",
              "        await google.colab.output.renderOutput(dataTable, element);\n",
              "        const docLink = document.createElement('div');\n",
              "        docLink.innerHTML = docLinkHtml;\n",
              "        element.appendChild(docLink);\n",
              "      }\n",
              "    </script>\n",
              "  </div>\n",
              "\n",
              "\n",
              "    <div id=\"df-14639f19-4130-4bbe-80ea-4a77ed3bfeee\">\n",
              "      <button class=\"colab-df-quickchart\" onclick=\"quickchart('df-14639f19-4130-4bbe-80ea-4a77ed3bfeee')\"\n",
              "                title=\"Suggest charts\"\n",
              "                style=\"display:none;\">\n",
              "\n",
              "<svg xmlns=\"http://www.w3.org/2000/svg\" height=\"24px\"viewBox=\"0 0 24 24\"\n",
              "     width=\"24px\">\n",
              "    <g>\n",
              "        <path d=\"M19 3H5c-1.1 0-2 .9-2 2v14c0 1.1.9 2 2 2h14c1.1 0 2-.9 2-2V5c0-1.1-.9-2-2-2zM9 17H7v-7h2v7zm4 0h-2V7h2v10zm4 0h-2v-4h2v4z\"/>\n",
              "    </g>\n",
              "</svg>\n",
              "      </button>\n",
              "\n",
              "<style>\n",
              "  .colab-df-quickchart {\n",
              "      --bg-color: #E8F0FE;\n",
              "      --fill-color: #1967D2;\n",
              "      --hover-bg-color: #E2EBFA;\n",
              "      --hover-fill-color: #174EA6;\n",
              "      --disabled-fill-color: #AAA;\n",
              "      --disabled-bg-color: #DDD;\n",
              "  }\n",
              "\n",
              "  [theme=dark] .colab-df-quickchart {\n",
              "      --bg-color: #3B4455;\n",
              "      --fill-color: #D2E3FC;\n",
              "      --hover-bg-color: #434B5C;\n",
              "      --hover-fill-color: #FFFFFF;\n",
              "      --disabled-bg-color: #3B4455;\n",
              "      --disabled-fill-color: #666;\n",
              "  }\n",
              "\n",
              "  .colab-df-quickchart {\n",
              "    background-color: var(--bg-color);\n",
              "    border: none;\n",
              "    border-radius: 50%;\n",
              "    cursor: pointer;\n",
              "    display: none;\n",
              "    fill: var(--fill-color);\n",
              "    height: 32px;\n",
              "    padding: 0;\n",
              "    width: 32px;\n",
              "  }\n",
              "\n",
              "  .colab-df-quickchart:hover {\n",
              "    background-color: var(--hover-bg-color);\n",
              "    box-shadow: 0 1px 2px rgba(60, 64, 67, 0.3), 0 1px 3px 1px rgba(60, 64, 67, 0.15);\n",
              "    fill: var(--button-hover-fill-color);\n",
              "  }\n",
              "\n",
              "  .colab-df-quickchart-complete:disabled,\n",
              "  .colab-df-quickchart-complete:disabled:hover {\n",
              "    background-color: var(--disabled-bg-color);\n",
              "    fill: var(--disabled-fill-color);\n",
              "    box-shadow: none;\n",
              "  }\n",
              "\n",
              "  .colab-df-spinner {\n",
              "    border: 2px solid var(--fill-color);\n",
              "    border-color: transparent;\n",
              "    border-bottom-color: var(--fill-color);\n",
              "    animation:\n",
              "      spin 1s steps(1) infinite;\n",
              "  }\n",
              "\n",
              "  @keyframes spin {\n",
              "    0% {\n",
              "      border-color: transparent;\n",
              "      border-bottom-color: var(--fill-color);\n",
              "      border-left-color: var(--fill-color);\n",
              "    }\n",
              "    20% {\n",
              "      border-color: transparent;\n",
              "      border-left-color: var(--fill-color);\n",
              "      border-top-color: var(--fill-color);\n",
              "    }\n",
              "    30% {\n",
              "      border-color: transparent;\n",
              "      border-left-color: var(--fill-color);\n",
              "      border-top-color: var(--fill-color);\n",
              "      border-right-color: var(--fill-color);\n",
              "    }\n",
              "    40% {\n",
              "      border-color: transparent;\n",
              "      border-right-color: var(--fill-color);\n",
              "      border-top-color: var(--fill-color);\n",
              "    }\n",
              "    60% {\n",
              "      border-color: transparent;\n",
              "      border-right-color: var(--fill-color);\n",
              "    }\n",
              "    80% {\n",
              "      border-color: transparent;\n",
              "      border-right-color: var(--fill-color);\n",
              "      border-bottom-color: var(--fill-color);\n",
              "    }\n",
              "    90% {\n",
              "      border-color: transparent;\n",
              "      border-bottom-color: var(--fill-color);\n",
              "    }\n",
              "  }\n",
              "</style>\n",
              "\n",
              "      <script>\n",
              "        async function quickchart(key) {\n",
              "          const quickchartButtonEl =\n",
              "            document.querySelector('#' + key + ' button');\n",
              "          quickchartButtonEl.disabled = true;  // To prevent multiple clicks.\n",
              "          quickchartButtonEl.classList.add('colab-df-spinner');\n",
              "          try {\n",
              "            const charts = await google.colab.kernel.invokeFunction(\n",
              "                'suggestCharts', [key], {});\n",
              "          } catch (error) {\n",
              "            console.error('Error during call to suggestCharts:', error);\n",
              "          }\n",
              "          quickchartButtonEl.classList.remove('colab-df-spinner');\n",
              "          quickchartButtonEl.classList.add('colab-df-quickchart-complete');\n",
              "        }\n",
              "        (() => {\n",
              "          let quickchartButtonEl =\n",
              "            document.querySelector('#df-14639f19-4130-4bbe-80ea-4a77ed3bfeee button');\n",
              "          quickchartButtonEl.style.display =\n",
              "            google.colab.kernel.accessAllowed ? 'block' : 'none';\n",
              "        })();\n",
              "      </script>\n",
              "    </div>\n",
              "\n",
              "  <div id=\"id_d0346b05-88ae-4a85-9d3f-ba7e89d07010\">\n",
              "    <style>\n",
              "      .colab-df-generate {\n",
              "        background-color: #E8F0FE;\n",
              "        border: none;\n",
              "        border-radius: 50%;\n",
              "        cursor: pointer;\n",
              "        display: none;\n",
              "        fill: #1967D2;\n",
              "        height: 32px;\n",
              "        padding: 0 0 0 0;\n",
              "        width: 32px;\n",
              "      }\n",
              "\n",
              "      .colab-df-generate:hover {\n",
              "        background-color: #E2EBFA;\n",
              "        box-shadow: 0px 1px 2px rgba(60, 64, 67, 0.3), 0px 1px 3px 1px rgba(60, 64, 67, 0.15);\n",
              "        fill: #174EA6;\n",
              "      }\n",
              "\n",
              "      [theme=dark] .colab-df-generate {\n",
              "        background-color: #3B4455;\n",
              "        fill: #D2E3FC;\n",
              "      }\n",
              "\n",
              "      [theme=dark] .colab-df-generate:hover {\n",
              "        background-color: #434B5C;\n",
              "        box-shadow: 0px 1px 3px 1px rgba(0, 0, 0, 0.15);\n",
              "        filter: drop-shadow(0px 1px 2px rgba(0, 0, 0, 0.3));\n",
              "        fill: #FFFFFF;\n",
              "      }\n",
              "    </style>\n",
              "    <button class=\"colab-df-generate\" onclick=\"generateWithVariable('shopping_list')\"\n",
              "            title=\"Generate code using this dataframe.\"\n",
              "            style=\"display:none;\">\n",
              "\n",
              "  <svg xmlns=\"http://www.w3.org/2000/svg\" height=\"24px\"viewBox=\"0 0 24 24\"\n",
              "       width=\"24px\">\n",
              "    <path d=\"M7,19H8.4L18.45,9,17,7.55,7,17.6ZM5,21V16.75L18.45,3.32a2,2,0,0,1,2.83,0l1.4,1.43a1.91,1.91,0,0,1,.58,1.4,1.91,1.91,0,0,1-.58,1.4L9.25,21ZM18.45,9,17,7.55Zm-12,3A5.31,5.31,0,0,0,4.9,8.1,5.31,5.31,0,0,0,1,6.5,5.31,5.31,0,0,0,4.9,4.9,5.31,5.31,0,0,0,6.5,1,5.31,5.31,0,0,0,8.1,4.9,5.31,5.31,0,0,0,12,6.5,5.46,5.46,0,0,0,6.5,12Z\"/>\n",
              "  </svg>\n",
              "    </button>\n",
              "    <script>\n",
              "      (() => {\n",
              "      const buttonEl =\n",
              "        document.querySelector('#id_d0346b05-88ae-4a85-9d3f-ba7e89d07010 button.colab-df-generate');\n",
              "      buttonEl.style.display =\n",
              "        google.colab.kernel.accessAllowed ? 'block' : 'none';\n",
              "\n",
              "      buttonEl.onclick = () => {\n",
              "        google.colab.notebook.generateWithVariable('shopping_list');\n",
              "      }\n",
              "      })();\n",
              "    </script>\n",
              "  </div>\n",
              "\n",
              "    </div>\n",
              "  </div>\n"
            ],
            "application/vnd.google.colaboratory.intrinsic+json": {
              "type": "dataframe",
              "variable_name": "shopping_list",
              "summary": "{\n  \"name\": \"shopping_list\",\n  \"rows\": 4,\n  \"fields\": [\n    {\n      \"column\": \"Item\",\n      \"properties\": {\n        \"dtype\": \"string\",\n        \"num_unique_values\": 4,\n        \"samples\": [\n          \"Tomatoes\",\n          \"Crisps\",\n          \"Tropical Heat Cumin\"\n        ],\n        \"semantic_type\": \"\",\n        \"description\": \"\"\n      }\n    },\n    {\n      \"column\": \"Quantity\",\n      \"properties\": {\n        \"dtype\": \"number\",\n        \"std\": 0,\n        \"min\": 1,\n        \"max\": 3,\n        \"num_unique_values\": 3,\n        \"samples\": [\n          2,\n          3,\n          1\n        ],\n        \"semantic_type\": \"\",\n        \"description\": \"\"\n      }\n    }\n  ]\n}"
            }
          },
          "metadata": {},
          "execution_count": 1
        }
      ]
    },
    {
      "cell_type": "code",
      "source": [
        "import pandas as pd\n",
        "import re\n",
        "from typing import List\n",
        "\n",
        "# Define your input data (sku list) in the global scope.\n",
        "# This list is *not* modified by the pure function, so it's fine.\n",
        "sku = [\"2 x Tropical Heat Cumin\", \"3 x Tomatoes\", \"1 x Onion\", \"Crisps\"]\n",
        "\n",
        "def item_splitter_pure(items_list: List[str]) -> pd.DataFrame:\n",
        "    \"\"\"\n",
        "    Definition : A pure function that takes a product list and separates the item from the quantity\n",
        "\n",
        "    Args:\n",
        "        items_list (List[str]): List of item strings (e.g., \"2 x Tropical Heat Cumin\").\n",
        "\n",
        "    Returns:\n",
        "        pd.DataFrame: A new DataFrame with 'Item' and 'Quantity' columns.\n",
        "    \"\"\"\n",
        "    if not isinstance(items_list, list):\n",
        "        raise TypeError(\"Input 'items_list' must be a list.\")\n",
        "\n",
        "    # Create a new DataFrame *inside* the function's scope for each call\n",
        "    rows_to_add = [] # Collect rows to add at once for efficiency\n",
        "\n",
        "    for item_str in items_list:\n",
        "        try:\n",
        "            match = re.match(r'^\\s*(\\d+)\\s*x\\s*(.*)$', item_str)\n",
        "            if match:\n",
        "                quantity = int(match.group(1))\n",
        "                item_name = match.group(2).strip()\n",
        "            else:\n",
        "                quantity = 1\n",
        "                item_name = item_str.strip()\n",
        "\n",
        "            rows_to_add.append({\"Item\": item_name, \"Quantity\": quantity})\n",
        "\n",
        "        except Exception as e:\n",
        "            # For a pure function, printing is a side effect.\n",
        "            # In a real application, you might log this, or return an error indicator\n",
        "            # within the DataFrame or a separate error list.\n",
        "            print(f\"Error processing item '{item_str}': {e}\")\n",
        "\n",
        "    # Create the DataFrame and return it\n",
        "    result_df = pd.DataFrame(rows_to_add, columns=[\"Item\", \"Quantity\"])\n",
        "    return result_df\n",
        "\n",
        "# Now, call the pure function, passing the 'sku' list as an argument\n",
        "my_shopping_list_df = item_splitter_pure(sku)\n",
        "\n",
        "print(my_shopping_list_df)\n",
        "\n",
        "# If you call it again, you get a fresh, identical DataFrame\n",
        "my_shopping_list_df_2 = item_splitter_pure(sku)\n",
        "print(\"\\nSecond call (should be identical):\")\n",
        "print(my_shopping_list_df_2)"
      ],
      "metadata": {
        "id": "Y7iW64zXilqk",
        "colab": {
          "base_uri": "https://localhost:8080/"
        },
        "outputId": "906bfbdf-b640-4f6a-fa38-af53c6815714"
      },
      "execution_count": null,
      "outputs": [
        {
          "output_type": "stream",
          "name": "stdout",
          "text": [
            "                  Item  Quantity\n",
            "0  Tropical Heat Cumin         2\n",
            "1             Tomatoes         3\n",
            "2                Onion         1\n",
            "3               Crisps         1\n",
            "\n",
            "Second call (should be identical):\n",
            "                  Item  Quantity\n",
            "0  Tropical Heat Cumin         2\n",
            "1             Tomatoes         3\n",
            "2                Onion         1\n",
            "3               Crisps         1\n"
          ]
        }
      ]
    },
    {
      "cell_type": "markdown",
      "source": [
        "OOP also exists in other programming languages and is often described to center around the four pillars, or four tenants of OOP:\n",
        "\n",
        "  1. Encapsulation allows you to bundle data (attributes) and behaviors (methods) within a class to create a cohesive unit. By defining methods to control access to attributes and its modification, encapsulation helps maintain data integrity and promotes modular, secure code.\n",
        "\n",
        "  2. Inheritance enables the creation of hierarchical relationships between classes, allowing a subclass to inherit attributes and methods from a parent class. This promotes code reuse and reduces duplication.\n",
        "\n",
        "  3. Abstraction focuses on hiding implementation details and exposing only the essential functionality of an object. By enforcing a consistent interface, abstraction simplifies interactions with objects, allowing developers to focus on what an object does rather than how it achieves its functionality.\n",
        "\n",
        "  4. Polymorphism allows you to treat objects of different types as instances of the same base type, as long as they implement a common interface or behavior. Python’s duck typing make it especially suited for polymorphism, as it allows you to access attributes and methods on objects without needing to worry about their actual class.\n"
      ],
      "metadata": {
        "id": "Bq8WZzIgLpX2"
      }
    },
    {
      "cell_type": "code",
      "source": [
        "class Hen:\n",
        "    def __init__(self, name): # 1. 'name' is passed as an argument\n",
        "        self.name = name   # 2. Using '_' convention for a \"protected\" attribute\n",
        "                            # This indicates it's an internal detail,\n",
        "                            # though still accessible if you really try.\n",
        "\n",
        "    def make_sound(self): # 3. 'self' is the first argument\n",
        "        return f\"{self.name} is clucking\" # 4. Accessing the internal name\n",
        "\n",
        "    def get_name(self): # Optional: A getter method to access the name safely\n",
        "        return self.name\n",
        "\n",
        "# Creating an instance of the Hen class\n",
        "baby_chick = Hen(\"Chicky\")\n",
        "\n",
        "# Accessing the method which operates on the internal data\n",
        "print(baby_chick.make_sound())\n",
        "\n",
        "# You can still directly access _name, but the '_' signals\n",
        "# that you generally shouldn't directly modify it from outside.\n",
        "# This demonstrates encapsulation by bundling the data (_name)\n",
        "# and the method (make_sound) that operates on it.\n",
        "print(f\"The chick's name is: {baby_chick.get_name()}\")"
      ],
      "metadata": {
        "colab": {
          "base_uri": "https://localhost:8080/"
        },
        "id": "dAE2NFKroK83",
        "outputId": "f826a397-62be-4450-f17c-69f9ceabb234"
      },
      "execution_count": null,
      "outputs": [
        {
          "output_type": "stream",
          "name": "stdout",
          "text": [
            "Chicky is clucking\n",
            "The chick's name is: Chicky\n"
          ]
        }
      ]
    },
    {
      "cell_type": "markdown",
      "source": [
        "# **3. Abstraction**\n",
        "\n",
        "**Abstraction** allows you to hide internal details of a class and only exposing what is needed.\n",
        "**Private attributes** can only be accessed within the class and should not be accessed from outside the class. However, it is important to note that the double underscore syntax is just a convention and not a strict rule.\n",
        "The idea behind private attr:\n",
        "\n",
        "  1. This is typically for methods/attributes that are strictly internal to the class and are unlikely to be used or overridden by subclasses.\n",
        "  2. It's a stronger signal: \"Keep your hands off! This is purely for the internal workings of this specific class.\"\n",
        "\n",
        "Mostly for internal use, please be careful if accessing externally or in subclasses.\n",
        "Can be accessed if someone specifically creates a function or means to access it\n"
      ],
      "metadata": {
        "id": "obSqg1RHEoFi"
      }
    },
    {
      "cell_type": "code",
      "source": [
        "from typing_extensions import reveal_type\n",
        "class SecretKeeper:\n",
        "  def __init__(self,secret_data):\n",
        "    self.__secret_data = secret_data    ##Only this class should manage it\n",
        "\n",
        "  def reveal_secret(self):\n",
        "    return f\"The secret is: {self.__get_processed_secret()}\"\n",
        "\n",
        "  def __get_processed_secret(self):\n",
        "    #private method: internal processing not for external calls\n",
        "    return self.__secret_data.upper()\n",
        "\n",
        "\n",
        "keeper =  SecretKeeper(\"My secret\")\n",
        "print(keeper.reveal_secret())\n",
        "\n"
      ],
      "metadata": {
        "colab": {
          "base_uri": "https://localhost:8080/"
        },
        "id": "2VBJENyAFGB4",
        "outputId": "146cad4a-2f06-4879-f1d7-5019d62488d4"
      },
      "execution_count": null,
      "outputs": [
        {
          "output_type": "stream",
          "name": "stdout",
          "text": [
            "The secret is: MY SECRET\n"
          ]
        }
      ]
    },
    {
      "cell_type": "code",
      "source": [
        "# Attempting direct access will fail because of name mangling:\n",
        "#print(keeper.__secret_data)\n",
        "# AttributeError: 'SecretKeeper' object has no attribute '__secret_data'"
      ],
      "metadata": {
        "id": "gBYJGCUTHCfj"
      },
      "execution_count": null,
      "outputs": []
    },
    {
      "cell_type": "code",
      "source": [
        "class Person:\n",
        "  def __init__(self,name,age):\n",
        "    self.__private_attribute = age\n",
        "    self.name = name\n",
        "\n",
        "  def get_private_attribute(self):\n",
        "    return self.__private_attribute\n",
        "\n",
        "person = Person(\"John\",30)\n",
        "print(person.get_private_attribute())\n",
        "print(person.__private_attribute)  ## will raise an error"
      ],
      "metadata": {
        "colab": {
          "base_uri": "https://localhost:8080/",
          "height": 197
        },
        "id": "TE6guXSbHUCZ",
        "outputId": "a2e0d088-8b98-4f2e-fa6d-f7900819a274"
      },
      "execution_count": null,
      "outputs": [
        {
          "output_type": "stream",
          "name": "stdout",
          "text": [
            "30\n"
          ]
        },
        {
          "output_type": "error",
          "ename": "AttributeError",
          "evalue": "'Person' object has no attribute '__private_attribute'",
          "traceback": [
            "\u001b[0;31m---------------------------------------------------------------------------\u001b[0m",
            "\u001b[0;31mAttributeError\u001b[0m                            Traceback (most recent call last)",
            "\u001b[0;32m<ipython-input-10-3757664932>\u001b[0m in \u001b[0;36m<cell line: 0>\u001b[0;34m()\u001b[0m\n\u001b[1;32m      9\u001b[0m \u001b[0mperson\u001b[0m \u001b[0;34m=\u001b[0m \u001b[0mPerson\u001b[0m\u001b[0;34m(\u001b[0m\u001b[0;34m\"John\"\u001b[0m\u001b[0;34m,\u001b[0m\u001b[0;36m30\u001b[0m\u001b[0;34m)\u001b[0m\u001b[0;34m\u001b[0m\u001b[0;34m\u001b[0m\u001b[0m\n\u001b[1;32m     10\u001b[0m \u001b[0mprint\u001b[0m\u001b[0;34m(\u001b[0m\u001b[0mperson\u001b[0m\u001b[0;34m.\u001b[0m\u001b[0mget_private_attribute\u001b[0m\u001b[0;34m(\u001b[0m\u001b[0;34m)\u001b[0m\u001b[0;34m)\u001b[0m\u001b[0;34m\u001b[0m\u001b[0;34m\u001b[0m\u001b[0m\n\u001b[0;32m---> 11\u001b[0;31m \u001b[0mprint\u001b[0m\u001b[0;34m(\u001b[0m\u001b[0mperson\u001b[0m\u001b[0;34m.\u001b[0m\u001b[0m__private_attribute\u001b[0m\u001b[0;34m)\u001b[0m\u001b[0;34m\u001b[0m\u001b[0;34m\u001b[0m\u001b[0m\n\u001b[0m",
            "\u001b[0;31mAttributeError\u001b[0m: 'Person' object has no attribute '__private_attribute'"
          ]
        }
      ]
    },
    {
      "cell_type": "code",
      "source": [
        "class Hen: #Grandmother Hen\n",
        "    def __init__(self,name):\n",
        "        self._name = name\n",
        "\n",
        "    def make_sound(self):\n",
        "        return f\"{self._name} is clucking\"\n",
        "\n",
        "    def get_name(self):\n",
        "        return self._name\n",
        "\n",
        "class Chicky(Hen): # BabyChick inherits from Hen\n",
        "    def __init__(self, name):\n",
        "        # Call the parent class's constructor to initialize inherited attributes\n",
        "        super().__init__(name) # This calls Hen's __init__ method\n",
        "\n",
        "    def make_sound(self):\n",
        "        # Baby chicks don't cluck, they peep! This is method overriding.\n",
        "        return f\"{self._name} is peeping\"\n",
        "\n",
        "# Now let's see it in action:\n",
        "print(\"--- Inheritance Example ---\")\n",
        "mother_hen = Hen(\"Grandmother Hen\")\n",
        "print(f\"Parent (Grandmother): {mother_hen.make_sound()}\")\n",
        "\n",
        "baby_chick = Chicky(\"Henrietta\")\n",
        "print(f\"Grandchild: {baby_chick.make_sound()}\") # Notice it calls Chicky's make_sound\n",
        "print(f\"GrandChild's name via inherited method: {baby_chick.get_name()}\") # Uses Hen's get_name"
      ],
      "metadata": {
        "colab": {
          "base_uri": "https://localhost:8080/"
        },
        "id": "YFXFaDILwAbs",
        "outputId": "81088ef6-9dda-4528-a215-3f5f58ef78af"
      },
      "execution_count": null,
      "outputs": [
        {
          "output_type": "stream",
          "name": "stdout",
          "text": [
            "--- Inheritance Example ---\n",
            "Parent (Grandmother): Grandmother Hen is clucking\n",
            "Grandchild: Henrietta is peeping\n",
            "GrandChild's name via inherited method: Henrietta\n"
          ]
        }
      ]
    },
    {
      "cell_type": "markdown",
      "source": [
        "In this example, the Person class has a private attribute __private_attribute that holds the person's age. The class has a public method get_private_attribute that returns the value of the private attribute. When trying to access the private attribute directly from outside the class, an AttributeError is raised, indicating that the attribute is not accessible. This protects the private attribute from being accidentally or intentionally modified from outside the class, maintaining the integrity of the class."
      ],
      "metadata": {
        "id": "ZPlOMSmaHHq4"
      }
    },
    {
      "cell_type": "markdown",
      "source": [
        "**Protected (_)**: \"Internal use, please be careful if accessing externally or in subclasses.\" (Soft hint).\n",
        "Meaning:\n",
        "\n",
        "1. It's a strong hint to other developers: \"This is an internal detail. Don't access or modify this directly from outside the class, or from subclasses unless you know exactly what you're doing.\"\n",
        "2. It means: \"I might change how this works internally without warning, so don't build external code that depends on it.\""
      ],
      "metadata": {
        "id": "6DXRp4EyIbAp"
      }
    },
    {
      "cell_type": "code",
      "source": [
        "class Person:\n",
        "  def __init__(self,name,age):\n",
        "    self._protected_attribute = \"This is protected\"\n",
        "    self.name = name\n",
        "    self.age = age\n",
        "\n",
        "class Employee (Person):\n",
        "  def display_protected_attribute(self):\n",
        "    print(self._protected_attribute)\n",
        "\n",
        "\n",
        "employee = Employee('Jane Doe',25)\n",
        "employee.display_protected_attribute()\n",
        "employee._protected_attribute"
      ],
      "metadata": {
        "colab": {
          "base_uri": "https://localhost:8080/",
          "height": 53
        },
        "id": "Silpc0HwIaEi",
        "outputId": "65edabec-6eb2-4132-e970-99075eed9211"
      },
      "execution_count": null,
      "outputs": [
        {
          "output_type": "stream",
          "name": "stdout",
          "text": [
            "This is protected\n"
          ]
        },
        {
          "output_type": "execute_result",
          "data": {
            "text/plain": [
              "'This is protected'"
            ],
            "application/vnd.google.colaboratory.intrinsic+json": {
              "type": "string"
            }
          },
          "metadata": {},
          "execution_count": 14
        }
      ]
    },
    {
      "cell_type": "markdown",
      "source": [
        "# **4. Polymorphism**\n",
        "\n",
        "Polymorphism can be translated loosely to \"many forms\" A class can define an abstract method that can take many implementations\n",
        "\n",
        "***When to Use Polymorphism Instead***\n",
        "\n",
        "Instead of using a switch statement, we should refactor the design to leverage polymorphism if the number of cases is expected to grow. Here’s how:\n",
        "\n",
        "1. Define an abstract base class or interface for payment processing.\n",
        "2. Implement concrete classes for each payment type.\n",
        "3. Use dependency injection or a factory to instantiate the correct class."
      ],
      "metadata": {
        "id": "zNMrZMHTsdvT"
      }
    },
    {
      "cell_type": "code",
      "source": [
        "from abc import ABC, abstractmethod # Import ABC and abstractmethod\n",
        "\n",
        "class Device(ABC):\n",
        "\n",
        "  @abstractmethod\n",
        "  def start_device(self):\n",
        "    pass\n",
        "\n",
        "class electrical_vehicle(Device):\n",
        "  def start_device(self):\n",
        "    print(\"This EV is on the road\")\n",
        "\n",
        "class microwave(Device):\n",
        "  def start_device(self):\n",
        "    print(\"This microwave is working fine\")\n",
        "\n",
        "ev = electrical_vehicle()\n",
        "mw = microwave()\n",
        "\n",
        "ev.start_device()\n",
        "mw.start_device()\n",
        "\n",
        "devices = [electrical_vehicle(), microwave()]\n",
        "for d in devices:\n",
        "  d.start_device()"
      ],
      "metadata": {
        "id": "KU8nEJxUE41c",
        "colab": {
          "base_uri": "https://localhost:8080/"
        },
        "outputId": "0ee45314-0204-47e6-c029-9f3bd945ccff"
      },
      "execution_count": null,
      "outputs": [
        {
          "output_type": "stream",
          "name": "stdout",
          "text": [
            "This EV is on the road\n",
            "This microwave is working fine\n",
            "This EV is on the road\n",
            "This microwave is working fine\n"
          ]
        }
      ]
    },
    {
      "cell_type": "code",
      "source": [
        "from abc import ABC,abstractmethod\n",
        "\n",
        "class SchoolBird(ABC):\n",
        "  def __init__(self,name):\n",
        "    self._name = name\n",
        "\n",
        "  @abstractmethod\n",
        "  def make_sound(self):\n",
        "    #This is an abstract method\n",
        "    #Any class (other bird species) inheriting\n",
        "    ##MUST provide an implementation to how they want to make their own sound)\n",
        "    pass\n",
        "\n",
        "  @abstractmethod\n",
        "  def introduce_self(self):\n",
        "    #Another - method - every school bird must introduce oneself\n",
        "    pass\n",
        "\n",
        "  def get_name(self): #A concrete getter method that will inherit in the same way\n",
        "    return self._name\n",
        "\n",
        "\n",
        "# Now, our Chicky, Crow, and Duck classes must inherit from SchoolBird\n",
        "# and implement its abstract methods.\n",
        "\n",
        "class Chicky(SchoolBird):\n",
        "  def __init__(self,name):\n",
        "    super().__init__(name)\n",
        "\n",
        "  def make_sound(self): #Polymorphism - each bird has its own way of making a sound\n",
        "    return f\"{self._name} is peeping!\"\n",
        "\n",
        "  def introduce_self(self): #Abstraction too! - Every bird is hiding how they introduce themselves\n",
        "    return f\"Hi, I'm {self._name}. I'm a Chicky.\"\n",
        "\n",
        "\n",
        "class Crow(SchoolBird):\n",
        "  def __init__(self,name):\n",
        "    super().__init__(name)\n",
        "\n",
        "  def make_sound(self): #Polymorphism - each bird has its own way of making a sound\n",
        "    return f\"{self._name} is cawing! Beware of my might!\"\n",
        "\n",
        "  def introduce_self(self): #Abstraction too! - Every bird is hiding how they introduce themselves\n",
        "    return f\"I'm {self._name}. Maths is my strongest subject.\"\n",
        "\n",
        "\n",
        "class Duck(SchoolBird):\n",
        "  def __init__(self,name):\n",
        "    super().__init__(name)\n",
        "\n",
        "  def make_sound(self): #Polymorphism - each bird has its own way of making a sound\n",
        "    return f\"{self._name} is quacking!\"\n",
        "\n",
        "  def introduce_self(self): #Abstraction too! - Every bird is hiding how they introduce themselves\n",
        "    return f\"{self._name} is my name. Nobody can swim faster than I.\"\n",
        "\n",
        "\n",
        "print(\"\\n--- Abstraction and Polymorphism in Action: School Bird Introductions ---\")\n",
        "\n",
        "chick_student = Chicky(\"Henrietta\")\n",
        "crow_student = Crow(\"Mighty Crow\")\n",
        "duck_student = Duck(\"Scrouge McDuck\")\n",
        "\n",
        "student_roster = [chick_student, crow_student, duck_student]\n",
        "for student in student_roster:\n",
        "    print(student.introduce_self())\n",
        "    print(student.make_sound(),'\\n') # And make their characteristic sound!\n"
      ],
      "metadata": {
        "colab": {
          "base_uri": "https://localhost:8080/"
        },
        "id": "gS64XWGX9pWE",
        "outputId": "0a401ab0-390b-4a0d-a5cf-838c10947aba"
      },
      "execution_count": null,
      "outputs": [
        {
          "output_type": "stream",
          "name": "stdout",
          "text": [
            "\n",
            "--- Abstraction and Polymorphism in Action: School Bird Introductions ---\n",
            "Hi, I'm Henrietta. I'm a Chicky.\n",
            "Henrietta is peeping! \n",
            "\n",
            "I'm Mighty Crow. Maths is my strongest subject.\n",
            "Mighty Crow is cawing! Beware of my might! \n",
            "\n",
            "Scrouge McDuck is my name. Nobody can swim faster than I.\n",
            "Scrouge McDuck is quacking! \n",
            "\n"
          ]
        }
      ]
    },
    {
      "cell_type": "markdown",
      "source": [
        "# **5.Inheritance**\n",
        " Inheritance establishes an \"is-a\" relationship.\n",
        " inheritance involves creating a parent-child relationship between two classes. The child inherits properties and behaviors from its parent, acquiring predefined characteristics without manual intervention\n"
      ],
      "metadata": {
        "id": "7rE_kZHqVnR2"
      }
    },
    {
      "cell_type": "markdown",
      "source": [
        "Occasionally, you might desire direct access to a parent’s private members. While encapsulation discourages tampering with internal states, certain situations warrant circumvention. Python provides two alternatives for reaching beyond immediate scope: super() and parent_class.__function__(instance)."
      ],
      "metadata": {
        "id": "_2JFSvemY1XS"
      }
    },
    {
      "cell_type": "code",
      "source": [
        "##Accessing private methods using Super\n",
        "class Animal:\n",
        "    def speak(self):\n",
        "        raise NotImplementedError('speak')\n",
        "\n",
        "\n",
        "class Mammal(Animal):\n",
        "    def __give_birth(self):\n",
        "        return 'Born alive.'\n",
        "\n",
        "class Dog(Mammal):\n",
        "    def speak(self):\n",
        "        return 'Woof!'\n",
        "\n",
        "doggy = Dog()\n",
        "print (doggy.speak())\n",
        "#print(super(Dog, doggy).give_birth())"
      ],
      "metadata": {
        "colab": {
          "base_uri": "https://localhost:8080/"
        },
        "id": "jpGgHP-mVmzX",
        "outputId": "e9fe3913-0ea0-4620-de25-be5f7651fe83"
      },
      "execution_count": null,
      "outputs": [
        {
          "output_type": "stream",
          "name": "stdout",
          "text": [
            "Woof!\n"
          ]
        }
      ]
    },
    {
      "cell_type": "markdown",
      "source": [
        "### Multiple Inheritance"
      ],
      "metadata": {
        "id": "ryt3ddMXhMsN"
      }
    },
    {
      "cell_type": "code",
      "source": [
        "class Swim:\n",
        "  def swimming(self):\n",
        "    return \"I can fly\"\n",
        "\n",
        "\n",
        "class Fly:\n",
        "  def flying(self):\n",
        "    return \"oh and fly too\"\n",
        "\n",
        "\n",
        "class Duck(Swim,Fly):\n",
        "  pass\n",
        "\n",
        "duck = Duck()\n",
        "print(duck.swimming())\n",
        "print(duck.flying())"
      ],
      "metadata": {
        "colab": {
          "base_uri": "https://localhost:8080/"
        },
        "id": "3UMF9rcmhX_A",
        "outputId": "4f62410e-5a9e-4712-ee64-f097d8c5a931"
      },
      "execution_count": null,
      "outputs": [
        {
          "output_type": "stream",
          "name": "stdout",
          "text": [
            "I can fly\n",
            "oh and fly too\n"
          ]
        }
      ]
    },
    {
      "cell_type": "markdown",
      "source": [
        "# **6. Formatting Text ( #10 on 100 days of Python)**\n",
        "**a) Using the .format method**"
      ],
      "metadata": {
        "id": "n5N-es_7UlGH"
      }
    },
    {
      "cell_type": "code",
      "source": [
        "#Using the format method\n",
        "stance = \"Must Go Now\"\n",
        "print (\" That guy {}\".format(stance))"
      ],
      "metadata": {
        "colab": {
          "base_uri": "https://localhost:8080/"
        },
        "id": "_1KEiegzTPsr",
        "outputId": "350efe77-28d5-4af5-d964-628fea987c5e"
      },
      "execution_count": null,
      "outputs": [
        {
          "output_type": "stream",
          "name": "stdout",
          "text": [
            " That guy Must Go Now\n"
          ]
        }
      ]
    },
    {
      "cell_type": "markdown",
      "source": [
        "**b) Using the % operator**"
      ],
      "metadata": {
        "id": "jtc2ZhDbVFNC"
      }
    },
    {
      "cell_type": "code",
      "source": [
        "#Using the % operator\n",
        "stance = \" I said that we must fight for our country\"\n",
        "print(\"%s. Must go now!\" %stance)"
      ],
      "metadata": {
        "colab": {
          "base_uri": "https://localhost:8080/"
        },
        "id": "Q-nQkIp6U1pl",
        "outputId": "1406beed-24f5-4f65-b00e-c7bad9a908dd"
      },
      "execution_count": null,
      "outputs": [
        {
          "output_type": "stream",
          "name": "stdout",
          "text": [
            " I said that we must fight for our country. Must go now!\n"
          ]
        }
      ]
    },
    {
      "cell_type": "markdown",
      "source": [
        "**c) Using the f-strings**\n"
      ],
      "metadata": {
        "id": "bdNDkn7pVjXb"
      }
    },
    {
      "cell_type": "code",
      "source": [
        "stance = \"nchi yetu ya Kenya\"\n",
        "print(f'I love my country.{stance}')"
      ],
      "metadata": {
        "colab": {
          "base_uri": "https://localhost:8080/"
        },
        "id": "KfjFGJvLV76A",
        "outputId": "bf63bf75-54e9-434f-ddbe-a256918aaa8f"
      },
      "execution_count": null,
      "outputs": [
        {
          "output_type": "stream",
          "name": "stdout",
          "text": [
            "I love my country.nchi yetu ya Kenya\n"
          ]
        }
      ]
    },
    {
      "cell_type": "markdown",
      "source": [
        "# **7. Data Structures: Lists ( #11)**\n",
        "**Lists** are used for ordered collection of items"
      ],
      "metadata": {
        "id": "GMLSs22SjvYu"
      }
    },
    {
      "cell_type": "code",
      "source": [
        "number = [1,2,3,4,5]\n",
        "print(f'This is a list of numbers: {number}')\n",
        "\n",
        "#The append() method allows you to add an item to the end of a list\n",
        "names = ['Bob','Charles']\n",
        "names.append('Cynthia')\n",
        "print(f'These are the new names: {names}')\n",
        "names.remove('Bob')\n",
        "print(f'These are the new names: {names}')\n",
        "#The del statement is a powerful way to remove items from a list.\n",
        "#You can use it to remove a specific item by its index, or to remove a range of items:\n",
        "del number[0]\n",
        "print(f'These are the new names: {number}')"
      ],
      "metadata": {
        "colab": {
          "base_uri": "https://localhost:8080/"
        },
        "id": "6eEYGQ71kAoq",
        "outputId": "09dc20d8-4002-4915-c58b-67745a722ff2"
      },
      "execution_count": null,
      "outputs": [
        {
          "output_type": "stream",
          "name": "stdout",
          "text": [
            "This is a list of numbers: [1, 2, 3, 4, 5]\n",
            "These are the new names: ['Bob', 'Charles', 'Cynthia']\n",
            "These are the new names: ['Charles', 'Cynthia']\n",
            "These are the new names: [2, 3, 4, 5]\n"
          ]
        }
      ]
    },
    {
      "cell_type": "markdown",
      "source": [
        "\n",
        "\n",
        "# **8. What is the range() function in Python? ( #11)**\n",
        "The range() function is a built-in function in Python that returns a sequence of numbers, starting from 0 by default, increments by 1 (also by default), and ends at a specified number. It's commonly used in loops to repeat an action a certain number of times (we’ll cover loops in the next tutorial).\n",
        "\n",
        "The range function accepts a parameter indicating where it should stop (excluding the indicated number). It can be customized to start from a different than 0. Besides, it can also be customized to increment by a different number. By default, the range() function increments the values by 1, but it can be changed to increment those by 2, 3, or even a negative number like -1."
      ],
      "metadata": {
        "id": "N-lnz4wwm4Jr"
      }
    },
    {
      "cell_type": "code",
      "source": [
        "print(list(range(0,10,2)))"
      ],
      "metadata": {
        "colab": {
          "base_uri": "https://localhost:8080/"
        },
        "id": "8ZoV8QO_m24e",
        "outputId": "6838f098-cb66-4a9b-d76d-fa9128e67e15"
      },
      "execution_count": null,
      "outputs": [
        {
          "output_type": "stream",
          "name": "stdout",
          "text": [
            "[0, 2, 4, 6, 8]\n"
          ]
        }
      ]
    },
    {
      "cell_type": "markdown",
      "source": [
        "# **8. For Loops? ( #13)**\n",
        "A for loop is a type of control flow statement that allows you to iterate over a sequence of items, such as a list, a string, or a range. The basic syntax of a for loop includes a variable that represents the item of the sequence on each iteration, the sequence itself, and the code that needs to be executed for each item of the sequence\n",
        "\n",
        "\n",
        "\n",
        "```\n",
        "for item in sequence:\n",
        "    # code to be executed on each iteration\n",
        "```\n",
        "\n",
        "for loop: For iterating over sequences. Repeats a block of code for each item in a list, string, range, etc.\n",
        "\n",
        "    Short: \"Do this FOR every item in that list.\""
      ],
      "metadata": {
        "id": "nWHyNMc10Vxv"
      }
    },
    {
      "cell_type": "code",
      "source": [
        "numbers = [1,2,3,4,5]\n",
        "for num in numbers:\n",
        "  print(num+3)"
      ],
      "metadata": {
        "colab": {
          "base_uri": "https://localhost:8080/"
        },
        "id": "UXtNlLWH0VO7",
        "outputId": "976fb793-2ec8-47d2-fa15-723da4c54c37"
      },
      "execution_count": 1,
      "outputs": [
        {
          "output_type": "stream",
          "name": "stdout",
          "text": [
            "4\n",
            "5\n",
            "6\n",
            "7\n",
            "8\n"
          ]
        }
      ]
    },
    {
      "cell_type": "markdown",
      "source": [
        "# **8. While Loops? ( #14)**"
      ],
      "metadata": {
        "id": "MnCpdwxo5amS"
      }
    },
    {
      "cell_type": "markdown",
      "source": [
        "while loop: For repeated execution as long as a condition is true. Repeats a block of code as long as a specified condition remains true.\n",
        "\n",
        "    Short: \"Keep doing this WHILE that condition is true.\"\n",
        "the break statement is used to exit or break out of a loop early, before the loop has finished iterating through all of its items.\n",
        " This can be useful when you have a certain condition that you want to check for, and if that condition is met, you want to stop the loop and move on to the next section of your code."
      ],
      "metadata": {
        "id": "Vn8DHVer6VIw"
      }
    },
    {
      "cell_type": "code",
      "source": [
        "count = 10\n",
        "while True:\n",
        "    print(count)\n",
        "    count -= 1\n",
        "    if count == 0:\n",
        "        break\n",
        ""
      ],
      "metadata": {
        "colab": {
          "base_uri": "https://localhost:8080/"
        },
        "collapsed": true,
        "id": "YrF6ra3H5aTg",
        "outputId": "8eebf1b1-bda8-4ad3-9c89-dd6ea908da21"
      },
      "execution_count": 6,
      "outputs": [
        {
          "output_type": "stream",
          "name": "stdout",
          "text": [
            "10\n",
            "9\n",
            "8\n",
            "7\n",
            "6\n",
            "5\n",
            "4\n",
            "3\n",
            "2\n",
            "1\n"
          ]
        }
      ]
    },
    {
      "cell_type": "markdown",
      "source": [],
      "metadata": {
        "id": "dNsOOS1tBzuK"
      }
    }
  ]
}